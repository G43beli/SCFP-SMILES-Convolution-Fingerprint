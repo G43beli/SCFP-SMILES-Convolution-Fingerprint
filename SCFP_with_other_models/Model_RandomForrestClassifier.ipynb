{
 "cells": [
  {
   "cell_type": "markdown",
   "metadata": {},
   "source": [
    "### RandomForrest Model with SCFP for the target SR-p35"
   ]
  },
  {
   "cell_type": "code",
   "execution_count": 2,
   "metadata": {},
   "outputs": [],
   "source": [
    "import deepchem as dc\n",
    "import numpy as np\n",
    "from rdkit import Chem\n",
    "import pandas as pd\n",
    "import seaborn as sns\n",
    "from rdkit.Chem.rdmolfiles import MolToSmiles\n",
    "from tqdm.auto import tqdm\n",
    "import sys\n",
    "import cupy as cp\n",
    "from chainer import serializers\n",
    "from sklearn.ensemble import RandomForestClassifier\n",
    "from sklearn.utils import class_weight\n",
    "from sklearn.metrics import roc_auc_score, f1_score, precision_score, recall_score, confusion_matrix\n",
    "import matplotlib.pyplot as plt\n",
    "  \n",
    "sys.path.append('../')\n",
    "from SCFP_functions.feature import *\n",
    "import SCFP_functions.SCFPfunctions as Mf\n",
    "import SCFP_functions.SCFPmodel as Mm\n",
    "from SCFP_functions.constants import lensize\n",
    "from SCFP_functions.constants import scfp_model_args as args"
   ]
  },
  {
   "cell_type": "code",
   "execution_count": 4,
   "metadata": {},
   "outputs": [
    {
     "name": "stdout",
     "output_type": "stream",
     "text": [
      "GPU mode\n"
     ]
    }
   ],
   "source": [
    "#-------------------------------\n",
    "# GPU check\n",
    "xp = np\n",
    "if args[\"gpu\"] >= 0:\n",
    "    print('GPU mode')\n",
    "    xp = cp"
   ]
  },
  {
   "cell_type": "markdown",
   "metadata": {},
   "source": [
    "### Model: Training"
   ]
  },
  {
   "cell_type": "code",
   "execution_count": 5,
   "metadata": {},
   "outputs": [
    {
     "name": "stdout",
     "output_type": "stream",
     "text": [
      "Loading smiles:  ../data/tox21_SR-p53/tox21_data_all.smiles\n"
     ]
    },
    {
     "name": "stderr",
     "output_type": "stream",
     "text": [
      "[17:49:36] WARNING: not removing hydrogen atom without neighbors\n",
      "[17:49:42] WARNING: not removing hydrogen atom without neighbors\n"
     ]
    },
    {
     "name": "stdout",
     "output_type": "stream",
     "text": [
      "(8056, 1) (8056, 1, 400, 42)\n"
     ]
    }
   ],
   "source": [
    "file='../data/tox21_SR-p53/tox21_data_all.smiles'\n",
    "print('Loading smiles: ', file)\n",
    "smi = Chem.SmilesMolSupplier(file,delimiter='\\t',titleLine=False)\n",
    "mols = [mol for mol in smi if mol is not None]\n",
    "smiles = [MolToSmiles(smiles) for smiles in mols]\n",
    "\n",
    "F_list, T_list = [],[]\n",
    "for mol in mols:\n",
    "    if len(Chem.MolToSmiles(mol, kekuleSmiles=True, isomericSmiles=True)) > args[\"atomsize\"]: print(\"SMILES is too long. This mol will be ignored.\")\n",
    "    else:\n",
    "        F_list.append(mol_to_feature(mol,-1,args[\"atomsize\"]))\n",
    "        T_list.append(mol.GetProp('_Name') )            \n",
    "Mf.random_list(F_list)\n",
    "Mf.random_list(T_list)\n",
    "data_t = np.asarray(T_list, dtype=np.int32).reshape(-1,1)\n",
    "data_f = np.asarray(F_list, dtype=np.float32).reshape(-1,1,args[\"atomsize\"],lensize)\n",
    "print(data_t.shape, data_f.shape)"
   ]
  },
  {
   "cell_type": "code",
   "execution_count": 6,
   "metadata": {},
   "outputs": [],
   "source": [
    "vectorizer_model = Mm.CNN(args[\"atomsize\"], lensize, args[\"k1\"], args[\"s1\"], args[\"f1\"], args[\"k2\"], args[\"s2\"], args[\"k3\"], args[\"s3\"], args[\"f3\"],args[\"k4\"], args[\"s4\"],args[\"n_hid\"],args[\"n_out\"])"
   ]
  },
  {
   "cell_type": "code",
   "execution_count": 7,
   "metadata": {},
   "outputs": [],
   "source": [
    "def vectorize():\n",
    "    data_x = []\n",
    "    data_y = []\n",
    "\n",
    "    with cp.cuda.Device(args[\"gpu\"]):\n",
    "        serializers.load_npz('../model_output/model_snapshot_500', vectorizer_model)\n",
    "\n",
    "    for index, x in enumerate(data_f):\n",
    "        # x\n",
    "        scfp = vectorizer_model.fingerprint(x).flatten()\n",
    "        data_x.append(np.array(scfp))\n",
    "        # y\n",
    "        y = data_t[index].flatten()\n",
    "        data_y.append(np.array(y))\n",
    "    return  dc.data.NumpyDataset(X=data_x, y=data_y, ids=smiles)\n",
    "\n",
    "dataset = vectorize()"
   ]
  },
  {
   "cell_type": "code",
   "execution_count": 8,
   "metadata": {},
   "outputs": [],
   "source": [
    "splitter = dc.splits.RandomStratifiedSplitter()\n",
    "metrics_arr = [dc.metrics.Metric(dc.metrics.roc_auc_score, np.mean)]"
   ]
  },
  {
   "cell_type": "code",
   "execution_count": 9,
   "metadata": {},
   "outputs": [],
   "source": [
    "def model_builder(model_dir):\n",
    "  class_weights = class_weight.compute_class_weight(\"balanced\", classes=np.unique(dataset.y.flatten()), y=dataset.y.flatten())\n",
    "\n",
    "  sklearn_model = RandomForestClassifier(class_weight={0: class_weights[0], 1: class_weights[1]})\n",
    "  return dc.models.SklearnModel(sklearn_model, model_dir)"
   ]
  },
  {
   "cell_type": "code",
   "execution_count": 10,
   "metadata": {},
   "outputs": [
    {
     "name": "stderr",
     "output_type": "stream",
     "text": [
      "100%|██████████| 5/5 [00:10<00:00,  2.11s/it]"
     ]
    },
    {
     "name": "stdout",
     "output_type": "stream",
     "text": [
      "[0.9999446079633718, 0.9999170141443872, 0.9998761344125583, 0.9998851279535605, 0.9999611642547626]\n",
      "[0.9098948188546941, 0.8931047915855084, 0.9012985326580963, 0.913868328788469, 0.9367874302038697]\n"
     ]
    },
    {
     "name": "stderr",
     "output_type": "stream",
     "text": [
      "\n"
     ]
    },
    {
     "data": {
      "image/png": "[encoded data removed]",
      "text/plain": [
       "<Figure size 432x288 with 1 Axes>"
      ]
     },
     "metadata": {
      "needs_background": "light"
     },
     "output_type": "display_data"
    }
   ],
   "source": [
    "training_score_list = []\n",
    "validation_score_list = []\n",
    "transformers = []\n",
    "cv_folds = 5\n",
    "for i in tqdm(range(0,cv_folds)):\n",
    "    model = model_builder('./model_dir')\n",
    "    train_dataset, valid_dataset, test_dataset = splitter.train_valid_test_split(dataset)\n",
    "    model.fit(train_dataset)\n",
    "    train_scores = model.evaluate(train_dataset, metrics_arr, transformers)\n",
    "    training_score_list.append(train_scores[\"mean-roc_auc_score\"])\n",
    "    validation_scores = model.evaluate(valid_dataset, metrics_arr, transformers)\n",
    "    validation_score_list.append(validation_scores[\"mean-roc_auc_score\"])\n",
    "print(training_score_list)\n",
    "print(validation_score_list)\n",
    "\n",
    "sns.boxplot(x=[\"training\"]*cv_folds+[\"validation\"]*cv_folds,y=training_score_list+validation_score_list);"
   ]
  },
  {
   "cell_type": "code",
   "execution_count": 11,
   "metadata": {},
   "outputs": [],
   "source": [
    "model = model_builder('./model_dir')\n",
    "train_dataset, valid_dataset, test_dataset = splitter.train_valid_test_split(dataset, seed=42)\n",
    "model.fit(train_dataset)"
   ]
  },
  {
   "cell_type": "markdown",
   "metadata": {},
   "source": [
    "### Model: Testing"
   ]
  },
  {
   "cell_type": "code",
   "execution_count": 14,
   "metadata": {},
   "outputs": [
    {
     "name": "stdout",
     "output_type": "stream",
     "text": [
      "false_negative: 45\n",
      "true_positive: 6\n",
      "false_positive: 0\n",
      "true_negative: 754\n",
      "recall: 0.11764705882352941\n",
      "precision 0.9440993788819876\n",
      "f1: 0.9440993788819876\n",
      "roc-auc: 0.5588235294117647\n"
     ]
    },
    {
     "data": {
      "image/png": "[encoded data removed]",
      "text/plain": [
       "<Figure size 432x288 with 1 Axes>"
      ]
     },
     "metadata": {
      "needs_background": "light"
     },
     "output_type": "display_data"
    }
   ],
   "source": [
    "pred = [x.flatten() for x in model.predict(test_dataset)]\n",
    "pred = [int((prediction[0] < prediction[1]) == True) for prediction in pred]\n",
    "pred_df = pd.DataFrame(pred,columns=[\"prediction\"])\n",
    "pred_df[\"active\"] = [int(x) for x in test_dataset.y]\n",
    "pred_df[\"SMILES\"] = test_dataset.ids\n",
    "\n",
    "false_negative_df = pred_df.query(\"active == 1 & prediction == 0\").copy()\n",
    "true_positive_df = pred_df.query(\"active == 1 & prediction == 1\").copy()\n",
    "false_positive_df = pred_df.query(\"active == 0 & prediction == 1\").copy()\n",
    "true_negative_df = pred_df.query(\"active == 0 & prediction == 0\").copy()\n",
    "print(\"false_negative:\", false_negative_df.shape[0])\n",
    "print(\"true_positive:\", true_positive_df.shape[0])\n",
    "print(\"false_positive:\", false_positive_df.shape[0])\n",
    "print(\"true_negative:\", true_negative_df.shape[0])\n",
    "\n",
    "recall = recall_score(test_dataset.y.flatten(), pred)\n",
    "precision = precision_score(test_dataset.y.flatten(), pred, average='micro')\n",
    "f1 = f1_score(test_dataset.y.flatten(), pred, average='micro')\n",
    "auc = roc_auc_score(test_dataset.y.flatten(), pred, average='micro')\n",
    "print(\"recall:\", recall)\n",
    "print(\"precision\", precision)\n",
    "print(\"f1:\", f1)\n",
    "print(\"roc-auc:\", auc)\n",
    "\n",
    "cf_matrix = confusion_matrix(test_dataset.y.flatten(), pred)\n",
    "group_names = ['TN','FP','FN','TP']\n",
    "\n",
    "group_counts = [\"{0:0.0f}\".format(value) for value in cf_matrix.flatten()]\n",
    "\n",
    "labels = [f\"{v1}\\n\\n{v2}\" for v1, v2 in zip(group_names,group_counts)]\n",
    "\n",
    "labels = np.asarray(labels).reshape(2,2)\n",
    "\n",
    "ax = sns.heatmap(cf_matrix, annot=labels, linecolor=\"white\", linewidths=.5, fmt='', cmap=[\"#d6d6d9\"], cbar=False)\n",
    "\n",
    "ax.set_title('Confusion Matrix: RandomForrestClassifier with SCFP\\n',fontsize=15);\n",
    "ax.set_xlabel('\\npredicted is_active')\n",
    "ax.set_ylabel('actual is_active');\n",
    "\n",
    "## Ticket labels - List must be in alphabetical order\n",
    "ax.xaxis.set_ticklabels(['0','1'])\n",
    "ax.yaxis.set_ticklabels(['0','1'])\n",
    "\n",
    "## Display the visualization of the Confusion Matrix.\n",
    "plt.show()\n",
    "savefigure = ax.get_figure()\n",
    "savefigure.savefig('../results/confusion_matrix_rf_tox21.png', format='png', dpi=1000, bbox_inches='tight')"
   ]
  }
 ],
 "metadata": {
  "interpreter": {
   "hash": "4133a6b6acc903467afeae275cf8d0fc4a03eea80c94f55450b06597abf119db"
  },
  "kernelspec": {
   "display_name": "Python 3.10.2 ('SCFP-PGrLGv28')",
   "language": "python",
   "name": "python3"
  },
  "language_info": {
   "codemirror_mode": {
    "name": "ipython",
    "version": 3
   },
   "file_extension": ".py",
   "mimetype": "text/x-python",
   "name": "python",
   "nbconvert_exporter": "python",
   "pygments_lexer": "ipython3",
   "version": "3.10.2"
  },
  "nteract": {
   "version": "nteract-on-jupyter@1.9.7"
  }
 },
 "nbformat": 4,
 "nbformat_minor": 2
}
