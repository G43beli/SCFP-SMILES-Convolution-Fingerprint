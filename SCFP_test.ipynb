{
  "cells": [
    {
      "cell_type": "code",
      "execution_count": 1,
      "metadata": {
        "colab": {
          "base_uri": "https://localhost:8080/"
        },
        "id": "77KSGJxys9kq",
        "outputId": "040a7b2c-3daf-4687-ce97-65c3eba50f56"
      },
      "outputs": [
        {
          "name": "stderr",
          "output_type": "stream",
          "text": [
            "d:\\PythonVirtualEnvironments\\SCFP-PGrLGv28\\lib\\site-packages\\chainer\\_environment_check.py:72: UserWarning: \n",
            "--------------------------------------------------------------------------------\n",
            "CuPy (cupy-cuda116) version 10.4.0 may not be compatible with this version of Chainer.\n",
            "Please consider installing the supported version by running:\n",
            "  $ pip install 'cupy-cuda116>=7.7.0,<8.0.0'\n",
            "\n",
            "See the following page for more details:\n",
            "  https://docs.cupy.dev/en/latest/install.html\n",
            "--------------------------------------------------------------------------------\n",
            "\n",
            "  warnings.warn(msg.format(\n"
          ]
        }
      ],
      "source": [
        "import gc\n",
        "import numpy as np\n",
        "import pandas as pd\n",
        "import cupy as cp\n",
        "from rdkit import Chem\n",
        "from SCFP_functions.feature import *\n",
        "import SCFP_functions.SCFPfunctions as Mf\n",
        "import SCFP_functions.SCFPmodel as Mm\n",
        "from sklearn import metrics\n",
        "import chainer.functions as F\n",
        "from chainer import Variable\n",
        "from chainer import serializers"
      ]
    },
    {
      "cell_type": "code",
      "execution_count": 2,
      "metadata": {
        "id": "ihoYSQje2ksN"
      },
      "outputs": [],
      "source": [
        " # featurevector size\n",
        "atomInfo = 21\n",
        "structInfo = 21\n",
        "lensize= atomInfo + structInfo"
      ]
    },
    {
      "cell_type": "code",
      "execution_count": 4,
      "metadata": {
        "id": "y5PSnIan2lgv"
      },
      "outputs": [],
      "source": [
        "args = {\n",
        "    \"batchsize\": 32,\n",
        "    \"epoch\": 500,\n",
        "    \"frequency\": 1,\n",
        "    \"gpu\": 0,\n",
        "    \"output\": \"./test_out\",\n",
        "    \"atomsize\": 400,\n",
        "    \"boost\": -1,\n",
        "    \"k1\": 11,\n",
        "    \"s1\": 1,\n",
        "    \"f1\": 128,\n",
        "    \"k2\": 5,\n",
        "    \"s2\": 1,\n",
        "    \"k3\": 11,\n",
        "    \"s3\": 1,\n",
        "    \"f3\": 64,\n",
        "    \"k4\": 5,\n",
        "    \"s4\": 1,\n",
        "    \"n_hid\": 96,\n",
        "    \"n_out\": 1,\n",
        "}"
      ]
    },
    {
      "cell_type": "code",
      "execution_count": 5,
      "metadata": {
        "colab": {
          "base_uri": "https://localhost:8080/"
        },
        "id": "qmNfrIjo6Mnx",
        "outputId": "56d75838-1361-4a9c-e467-d533a30bd165"
      },
      "outputs": [
        {
          "name": "stdout",
          "output_type": "stream",
          "text": [
            "GPU mode\n"
          ]
        }
      ],
      "source": [
        "#-------------------------------\n",
        "# GPU check\n",
        "xp = np\n",
        "if args[\"gpu\"] >= 0:\n",
        "    print('GPU mode')\n",
        "    xp = cp"
      ]
    },
    {
      "cell_type": "code",
      "execution_count": 6,
      "metadata": {
        "colab": {
          "base_uri": "https://localhost:8080/"
        },
        "id": "2Qw21y4IHbcE",
        "outputId": "405426dd-8cf6-4d4a-894c-9885b670325f"
      },
      "outputs": [
        {
          "name": "stdout",
          "output_type": "stream",
          "text": [
            "Making Test Dataset...\n",
            "Loading smiles:  tox21_data_scoring.smiles\n",
            "(614, 1) (614, 1, 400, 42)\n"
          ]
        }
      ],
      "source": [
        "print('Making Test Dataset...')\n",
        "file='data/tox21_SR-p53/tox21_data_scoring.smiles'\n",
        "print('Loading smiles: ', file)\n",
        "smi = Chem.SmilesMolSupplier(file,delimiter='\\t',titleLine=False)\n",
        "mols = [mol for mol in smi if mol is not None]\n",
        "\n",
        "F_list, T_list = [],[]\n",
        "for mol in mols:\n",
        "    if len(Chem.MolToSmiles(mol, kekuleSmiles=True, isomericSmiles=True)) > args[\"atomsize\"]: print(\"SMILES is too long. This mol will be ignored.\")\n",
        "    else:\n",
        "        F_list.append(mol_to_feature(mol,-1,args[\"atomsize\"]))\n",
        "        T_list.append(mol.GetProp('_Name') )            \n",
        "Mf.random_list(F_list)\n",
        "Mf.random_list(T_list)\n",
        "data_t = np.asarray(T_list, dtype=np.int32).reshape(-1,1)\n",
        "data_f = np.asarray(F_list, dtype=np.float32).reshape(-1,1,args[\"atomsize\"],lensize)\n",
        "print(data_t.shape, data_f.shape)"
      ]
    },
    {
      "cell_type": "code",
      "execution_count": 7,
      "metadata": {
        "colab": {
          "base_uri": "https://localhost:8080/"
        },
        "id": "CoL89FVlIF2x",
        "outputId": "13289347-3b52-4caa-a180-1f04115bc879"
      },
      "outputs": [
        {
          "data": {
            "text/plain": [
              "0"
            ]
          },
          "execution_count": 7,
          "metadata": {},
          "output_type": "execute_result"
        }
      ],
      "source": [
        "borders = [len(data_t) * i // 30 for i in range(30+1)]\n",
        "\n",
        "with cp.cuda.Device(args[\"gpu\"]):\n",
        "    data_f_gpu = cp.array(data_f)\n",
        "    data_t_gpu = cp.array(data_t)\n",
        "\n",
        "del mol, mols, F_list, T_list\n",
        "gc.collect()"
      ]
    },
    {
      "cell_type": "code",
      "execution_count": 12,
      "metadata": {
        "colab": {
          "base_uri": "https://localhost:8080/"
        },
        "id": "iwFWs-GgI6CI",
        "outputId": "205bd71f-294b-4ce8-e4b1-0006458373d4"
      },
      "outputs": [
        {
          "data": {
            "text/plain": [
              "<SCFPmodel.CNN at 0x2742416aef0>"
            ]
          },
          "execution_count": 12,
          "metadata": {},
          "output_type": "execute_result"
        }
      ],
      "source": [
        "model = Mm.CNN(args[\"atomsize\"], lensize, args[\"k1\"], args[\"s1\"], args[\"f1\"], args[\"k2\"], args[\"s2\"], args[\"k3\"], args[\"s3\"], args[\"f3\"],args[\"k4\"], args[\"s4\"],args[\"n_hid\"],args[\"n_out\"])\n",
        "\n",
        "model.compute_accuracy = False\n",
        "model.to_gpu(args[\"gpu\"])"
      ]
    },
    {
      "cell_type": "code",
      "execution_count": null,
      "metadata": {
        "colab": {
          "base_uri": "https://localhost:8080/",
          "height": 1000
        },
        "id": "I5_5hYPNHBTo",
        "outputId": "e7c24ab3-771b-412d-b660-9a42f5c27129"
      },
      "outputs": [],
      "source": [
        "f = open('./model_output/evaluation_epoch.csv', 'w') \n",
        "f.write(\"epoch,TP,FN,FP,TN,Loss,Accuracy,B_accuracy,Sepecificity,Precision,Recall,F-measure,AUC\\n\")\n",
        "\n",
        "try:\n",
        "    for epoch in range(args[\"frequency\"], args[\"epoch\"]+1 ,args[\"frequency\"]):\n",
        "        pred_score,loss =[],[]\n",
        "        \n",
        "        with cp.cuda.Device(args[\"gpu\"]):\n",
        "            serializers.load_npz('./model_output/model_snapshot_' + str(epoch), model)\n",
        "            \n",
        "        for i in range(30):\n",
        "            with cp.cuda.Device(args[\"gpu\"]):\n",
        "                x_gpu = data_f_gpu[borders[i]:borders[i+1]]\n",
        "                y_gpu = data_t_gpu[borders[i]:borders[i+1]]\n",
        "                pred_tmp_gpu, sr = model.predict(Variable(x_gpu))\n",
        "                pred_tmp_gpu = F.sigmoid(pred_tmp_gpu)\n",
        "                pred_tmp = pred_tmp_gpu.data.get()\n",
        "                loss_tmp = model(Variable(x_gpu),Variable(y_gpu)).data.get()\n",
        "            pred_score.extend(pred_tmp.reshape(-1).tolist())\n",
        "            loss.append(loss_tmp.tolist())\n",
        "        \n",
        "        loss = np.mean(loss)\n",
        "        pred_score = np.array(pred_score).reshape(-1,1)\n",
        "        pred = 1*(pred_score >=0.5)\n",
        "        \n",
        "        count_TP= np.sum(np.logical_and(data_t == pred, pred == 1)*1)\n",
        "        count_FP = np.sum(np.logical_and(data_t != pred, pred == 1)*1)\n",
        "        count_FN = np.sum(np.logical_and(data_t != pred, pred == 0)*1)\n",
        "        count_TN = np.sum(np.logical_and(data_t == pred, pred == 0)*1)\n",
        "            \n",
        "        Accuracy = (count_TP + count_TN)/(count_TP+count_FP+count_FN+count_TN)\n",
        "        Sepecificity = count_TN/(count_TN + count_FP)\n",
        "        Precision = count_TP/(count_TP+count_FP)\n",
        "        Recall = count_TP/(count_TP+count_FN)\n",
        "        Fmeasure = 2*Recall*Precision/(Recall+Precision)\n",
        "        B_accuracy = (Sepecificity+Recall)/2\n",
        "        AUC = metrics.roc_auc_score(data_t, pred_score, average = 'weighted')\n",
        "        \n",
        "        print(epoch,count_TP,count_FN,count_FP,count_TN,loss,Accuracy,B_accuracy,Sepecificity,Precision,Recall,Fmeasure,AUC, sep=\"\\t\")\n",
        "        text = '{0},{1},{2},{3},{4},{5},{6},{7},{8},{9},{10},{11},{12}\\n'.format(\n",
        "                epoch,count_TP,count_FN,count_FP,count_TN,loss,Accuracy,B_accuracy,Sepecificity,Precision,Recall,Fmeasure,AUC)\n",
        "        f.write(text)\n",
        "finally:\n",
        "    f.close()\n"
      ]
    },
    {
      "cell_type": "code",
      "execution_count": 8,
      "metadata": {
        "colab": {
          "base_uri": "https://localhost:8080/",
          "height": 81
        },
        "id": "E8YuGcPsLaGF",
        "outputId": "0bf82d39-130e-4ed3-eee3-e08577e04919"
      },
      "outputs": [
        {
          "data": {
            "text/plain": [
              "epoch             7.000000\n",
              "TP                9.000000\n",
              "FN               31.000000\n",
              "FP               17.000000\n",
              "TN              557.000000\n",
              "Loss              0.213412\n",
              "Accuracy          0.921824\n",
              "B_accuracy        0.597692\n",
              "Sepecificity      0.970383\n",
              "Precision         0.346154\n",
              "Recall            0.225000\n",
              "F-measure         0.272727\n",
              "AUC               0.829443\n",
              "Name: 6, dtype: float64"
            ]
          },
          "execution_count": 8,
          "metadata": {},
          "output_type": "execute_result"
        }
      ],
      "source": [
        "df_output = pd.read_csv(\"./model_output/evaluation_epoch.csv\")\n",
        "index_of_best =df_output['AUC'].idxmax()\n",
        "best = df_output.iloc[index_of_best]\n",
        "best"
      ]
    },
    {
      "cell_type": "code",
      "execution_count": 14,
      "metadata": {},
      "outputs": [
        {
          "data": {
            "text/plain": [
              "(614, 1, 400, 42)"
            ]
          },
          "execution_count": 14,
          "metadata": {},
          "output_type": "execute_result"
        }
      ],
      "source": [
        "data_f_gpu.shape"
      ]
    }
  ],
  "metadata": {
    "accelerator": "GPU",
    "colab": {
      "collapsed_sections": [],
      "name": "smiles_classification.ipynb",
      "provenance": []
    },
    "interpreter": {
      "hash": "4133a6b6acc903467afeae275cf8d0fc4a03eea80c94f55450b06597abf119db"
    },
    "kernelspec": {
      "display_name": "Python 3.10.2 ('SCFP-PGrLGv28')",
      "language": "python",
      "name": "python3"
    },
    "language_info": {
      "codemirror_mode": {
        "name": "ipython",
        "version": 3
      },
      "file_extension": ".py",
      "mimetype": "text/x-python",
      "name": "python",
      "nbconvert_exporter": "python",
      "pygments_lexer": "ipython3",
      "version": "3.10.2"
    }
  },
  "nbformat": 4,
  "nbformat_minor": 0
}
